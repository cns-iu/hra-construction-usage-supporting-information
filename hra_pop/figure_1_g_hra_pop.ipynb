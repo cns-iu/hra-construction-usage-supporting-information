{
 "cells": [
  {
   "cell_type": "markdown",
   "metadata": {},
   "source": [
    "# A notebook to identify two different anatomical structures to show in Fig. 1g"
   ]
  },
  {
   "cell_type": "markdown",
   "metadata": {},
   "source": [
    "Goal: Identify two AS in the same organ that have a low cosine similarity in terms of cell type population"
   ]
  },
  {
   "cell_type": "markdown",
   "metadata": {},
   "source": [
    "## `import` statements"
   ]
  },
  {
   "cell_type": "code",
   "execution_count": 92,
   "metadata": {},
   "outputs": [],
   "source": [
    "from pprint import pprint\n",
    "import pandas as pd\n",
    "import requests\n",
    "from io import StringIO\n",
    "import seaborn as sns \n",
    "import matplotlib.pyplot as plt\n",
    "import matplotlib.ticker as mtick"
   ]
  },
  {
   "cell_type": "markdown",
   "metadata": {},
   "source": [
    "## Load hra-pop data"
   ]
  },
  {
   "cell_type": "markdown",
   "metadata": {},
   "source": [
    "### AS-AS similarities"
   ]
  },
  {
   "cell_type": "code",
   "execution_count": 93,
   "metadata": {},
   "outputs": [
    {
     "name": "stdout",
     "output_type": "stream",
     "text": [
      "            organId  organ   sex            modality              as1_label  \\\n",
      "102  UBERON:0000948  heart  Male  sc_transcriptomics    left cardiac atrium   \n",
      "73   UBERON:0000948  heart  Male  sc_transcriptomics    left cardiac atrium   \n",
      "103  UBERON:0000948  heart  Male  sc_transcriptomics   right cardiac atrium   \n",
      "75   UBERON:0000948  heart  Male  sc_transcriptomics   right cardiac atrium   \n",
      "95   UBERON:0000948  heart  Male  sc_transcriptomics    left cardiac atrium   \n",
      "97   UBERON:0000948  heart  Male  sc_transcriptomics   right cardiac atrium   \n",
      "105  UBERON:0000948  heart  Male  sc_transcriptomics   heart left ventricle   \n",
      "71   UBERON:0000948  heart  Male  sc_transcriptomics  heart right ventricle   \n",
      "180  UBERON:0000948  heart  Male  sc_transcriptomics   right cardiac atrium   \n",
      "99   UBERON:0000948  heart  Male  sc_transcriptomics  heart right ventricle   \n",
      "\n",
      "                   as2_label  cosine_sim  as1_dataset_count  as2_dataset_count  \n",
      "102  interventricular septum    0.318037                 14                 14  \n",
      "73      heart left ventricle    0.361207                 14                 64  \n",
      "103  interventricular septum    0.389262                 16                 14  \n",
      "75      heart left ventricle    0.395178                 16                 64  \n",
      "95     heart right ventricle    0.395941                 14                 29  \n",
      "97     heart right ventricle    0.430632                 16                 29  \n",
      "105  interventricular septum    0.434157                 64                 14  \n",
      "71      heart left ventricle    0.458431                 29                 64  \n",
      "180      left cardiac atrium    0.486271                 16                 14  \n",
      "99   interventricular septum    0.528404                 29                 14  \n"
     ]
    }
   ],
   "source": [
    "# make sure https://github.com/x-atlas-consortia/hra-pop/tree/main/ is cloned to the same root folder as this repository\n",
    "# let's read this report that lists AS-AS similarities for all AS in HRApop\n",
    "df_similarity_report = pd.read_csv(\"../../hra-pop/output-data/v0.10.2/reports/atlas/figure-as-as-sim.csv\")\n",
    "\n",
    "# let's sort by cosime similarity so we can find two instances with a low cosine similarity\n",
    "df_similarity_report = df_similarity_report.sort_values(by=\"cosine_sim\")\n",
    "\n",
    "df_similarity_report_filtered = df_similarity_report[(\n",
    "    df_similarity_report['organ'] == \"heart\") & (df_similarity_report['sex'] == \"Male\")]\n",
    "print(df_similarity_report_filtered)"
   ]
  },
  {
   "cell_type": "markdown",
   "metadata": {},
   "source": [
    "### Load cell type populations for AS"
   ]
  },
  {
   "cell_type": "code",
   "execution_count": 94,
   "metadata": {},
   "outputs": [
    {
     "name": "stdout",
     "output_type": "stream",
     "text": [
      "             organ                                             as as_label  \\\n",
      "0  Large Intestine  http://purl.obolibrary.org/obo/UBERON_0001153   caecum   \n",
      "1  Large Intestine  http://purl.obolibrary.org/obo/UBERON_0001153   caecum   \n",
      "2  Large Intestine  http://purl.obolibrary.org/obo/UBERON_0001153   caecum   \n",
      "3  Large Intestine  http://purl.obolibrary.org/obo/UBERON_0001153   caecum   \n",
      "4  Large Intestine  http://purl.obolibrary.org/obo/UBERON_0001153   caecum   \n",
      "\n",
      "      sex        tool            modality  \\\n",
      "0  Female  celltypist  sc_transcriptomics   \n",
      "1  Female  celltypist  sc_transcriptomics   \n",
      "2  Female  celltypist  sc_transcriptomics   \n",
      "3  Female  celltypist  sc_transcriptomics   \n",
      "4  Female  celltypist  sc_transcriptomics   \n",
      "\n",
      "                                             cell_id           cell_label  \\\n",
      "0         https://purl.org/ccf/ASCTB-TEMP_smc-plpp2-         SMC (PLPP2+)   \n",
      "1  https://purl.org/ccf/ASCTB-TEMP_cycling-plasma...  Cycling plasma cell   \n",
      "2  https://purl.org/ccf/ASCTB-TEMP_mesoderm-1-hand1-  Mesoderm 1 (HAND1+)   \n",
      "3         https://purl.org/ccf/ASCTB-TEMP_colonocyte           Colonocyte   \n",
      "4        https://purl.org/ccf/ASCTB-TEMP_goblet-cell          Goblet cell   \n",
      "\n",
      "   cell_count  cell_percentage  \n",
      "0       99.48         0.114140  \n",
      "1       67.98         0.077998  \n",
      "2       61.50         0.070563  \n",
      "3       57.78         0.066295  \n",
      "4       52.80         0.060581  \n"
     ]
    }
   ],
   "source": [
    "# Get data via grlc\n",
    "url = \"https://grlc.io/api-git/hubmapconsortium/ccf-grlc/subdir/hra-pop//cell_types_in_anatomical_structurescts_per_as.csv\"\n",
    "\n",
    "# Make the HTTP GET request\n",
    "response = requests.get(url)\n",
    "\n",
    "# Check if the request was successful\n",
    "if response.status_code == 200:\n",
    "    # Read the CSV data into a DataFrame\n",
    "    data = StringIO(response.text)\n",
    "    df_hra_api = pd.read_csv(data)\n",
    "    print(df_hra_api.head())  # Print the first few rows of the DataFrame\n",
    "else:\n",
    "    print(f\"Failed to retrieve data: {response.status_code}\")"
   ]
  },
  {
   "cell_type": "markdown",
   "metadata": {},
   "source": [
    "## Functions"
   ]
  },
  {
   "cell_type": "code",
   "execution_count": 95,
   "metadata": {},
   "outputs": [],
   "source": [
    "def get_cell_type_population(as_label: str, tool:str, sex:str, hra_api_response: pd.DataFrame):\n",
    "    \"\"\"Gets the cell type population for the provided as_label (string) from the HRA API\n",
    "\n",
    "    Args:\n",
    "                    as_label (str): human-readable label for the desired anatomical structure\n",
    "                    \n",
    "    Returns:    \n",
    "                    result (dict): with cell labels, percentages, and the anatomical structure\n",
    "    \"\"\"\n",
    "    # set up the result as a dict\n",
    "    result = {\n",
    "        'Cell Type': [],\n",
    "        'Anatomical Structure': [],\n",
    "        'Cell Percentage': []\n",
    "    } \n",
    "    \n",
    "    # filter\n",
    "    filtered_df = hra_api_response[(hra_api_response['as_label'] == as_label) & (hra_api_response['tool'] == tool) & (hra_api_response['sex'] == sex)]\n",
    "    \n",
    "    # get cell type and percentage pairs\n",
    "    values = filtered_df[['cell_label', 'cell_percentage']]\n",
    "    \n",
    "    result['Cell Type'] = values['cell_label']\n",
    "    result['Anatomical Structure'] = [as_label] * len(values['cell_label'])\n",
    "    result['Cell Percentage'] = values['cell_percentage']\n",
    "\n",
    "    return pd.DataFrame(result)"
   ]
  },
  {
   "cell_type": "markdown",
   "metadata": {},
   "source": [
    "## Prepare the data for visualization"
   ]
  },
  {
   "cell_type": "code",
   "execution_count": 96,
   "metadata": {},
   "outputs": [
    {
     "data": {
      "text/html": [
       "<div>\n",
       "<style scoped>\n",
       "    .dataframe tbody tr th:only-of-type {\n",
       "        vertical-align: middle;\n",
       "    }\n",
       "\n",
       "    .dataframe tbody tr th {\n",
       "        vertical-align: top;\n",
       "    }\n",
       "\n",
       "    .dataframe thead th {\n",
       "        text-align: right;\n",
       "    }\n",
       "</style>\n",
       "<table border=\"1\" class=\"dataframe\">\n",
       "  <thead>\n",
       "    <tr style=\"text-align: right;\">\n",
       "      <th></th>\n",
       "      <th>Cell Type</th>\n",
       "      <th>Anatomical Structure</th>\n",
       "      <th>Cell Percentage</th>\n",
       "    </tr>\n",
       "  </thead>\n",
       "  <tbody>\n",
       "    <tr>\n",
       "      <th>0</th>\n",
       "      <td>Atrial Cardiomyocyte</td>\n",
       "      <td>left cardiac atrium</td>\n",
       "      <td>0.321545</td>\n",
       "    </tr>\n",
       "    <tr>\n",
       "      <th>1</th>\n",
       "      <td>Pericyte</td>\n",
       "      <td>left cardiac atrium</td>\n",
       "      <td>0.187391</td>\n",
       "    </tr>\n",
       "    <tr>\n",
       "      <th>2</th>\n",
       "      <td>Fibroblast</td>\n",
       "      <td>left cardiac atrium</td>\n",
       "      <td>0.147331</td>\n",
       "    </tr>\n",
       "    <tr>\n",
       "      <th>3</th>\n",
       "      <td>Capillary Endothelial</td>\n",
       "      <td>left cardiac atrium</td>\n",
       "      <td>0.124877</td>\n",
       "    </tr>\n",
       "    <tr>\n",
       "      <th>4</th>\n",
       "      <td>Ventricular Cardiomycoyte</td>\n",
       "      <td>interventricular septum</td>\n",
       "      <td>0.368072</td>\n",
       "    </tr>\n",
       "    <tr>\n",
       "      <th>5</th>\n",
       "      <td>Capillary Endothelial</td>\n",
       "      <td>interventricular septum</td>\n",
       "      <td>0.181801</td>\n",
       "    </tr>\n",
       "    <tr>\n",
       "      <th>6</th>\n",
       "      <td>Fibroblast</td>\n",
       "      <td>interventricular septum</td>\n",
       "      <td>0.151964</td>\n",
       "    </tr>\n",
       "    <tr>\n",
       "      <th>7</th>\n",
       "      <td>Pericyte</td>\n",
       "      <td>interventricular septum</td>\n",
       "      <td>0.133297</td>\n",
       "    </tr>\n",
       "  </tbody>\n",
       "</table>\n",
       "</div>"
      ],
      "text/plain": [
       "                   Cell Type     Anatomical Structure  Cell Percentage\n",
       "0       Atrial Cardiomyocyte      left cardiac atrium         0.321545\n",
       "1                   Pericyte      left cardiac atrium         0.187391\n",
       "2                 Fibroblast      left cardiac atrium         0.147331\n",
       "3      Capillary Endothelial      left cardiac atrium         0.124877\n",
       "4  Ventricular Cardiomycoyte  interventricular septum         0.368072\n",
       "5      Capillary Endothelial  interventricular septum         0.181801\n",
       "6                 Fibroblast  interventricular septum         0.151964\n",
       "7                   Pericyte  interventricular septum         0.133297"
      ]
     },
     "execution_count": 96,
     "metadata": {},
     "output_type": "execute_result"
    }
   ],
   "source": [
    "# Filter the right data\n",
    "as_label_1 = \"left cardiac atrium\"\n",
    "as_label_2 = \"interventricular septum\"\n",
    "tool = \"azimuth\"\n",
    "sex = \"Female\"\n",
    "\n",
    "# get cell types and percentages for both\n",
    "as_1_cells = get_cell_type_population(as_label_1, tool, sex, df_hra_api)\n",
    "as_2_cells = get_cell_type_population(as_label_2, tool, sex, df_hra_api)\n",
    "\n",
    "# set filter\n",
    "as_1_cells = as_1_cells[(as_1_cells['Cell Percentage'] >= 0.05)]\n",
    "as_2_cells = as_2_cells[(as_2_cells['Cell Percentage'] >= 0.05)]\n",
    "\n",
    "# concatenate the two data frames\n",
    "concatenated_df = pd.concat([as_1_cells, as_2_cells], ignore_index=True)\n",
    "concatenated_df"
   ]
  },
  {
   "cell_type": "markdown",
   "metadata": {},
   "source": [
    "## Visualize"
   ]
  },
  {
   "cell_type": "code",
   "execution_count": 100,
   "metadata": {},
   "outputs": [
    {
     "name": "stderr",
     "output_type": "stream",
     "text": [
      "C:\\Users\\abueckle\\AppData\\Local\\Temp\\2\\ipykernel_26464\\805880509.py:25: UserWarning: set_ticklabels() should only be used with a fixed number of ticks, i.e. after set_ticks() or using a FixedLocator.\n",
      "  ax.set_yticklabels(['{:.0%}'.format(val) for val in vals])\n"
     ]
    },
    {
     "data": {
      "image/png": "[encoded data removed]",
      "text/plain": [
       "<Figure size 1000x500 with 1 Axes>"
      ]
     },
     "metadata": {},
     "output_type": "display_data"
    }
   ],
   "source": [
    "# Set order for bars\n",
    "group_order = ['interventricular septum', 'left cardiac atrium']\n",
    "\n",
    "# set colors\n",
    "custom_palette = {'interventricular septum': '#E1812C',\n",
    "                  'left cardiac atrium': '#3274A1'}\n",
    "\n",
    "# create grouped bar graph using seaborn\n",
    "plot = sns.catplot(\n",
    "    data=concatenated_df,\n",
    "    x='Cell Type',\n",
    "    y='Cell Percentage',\n",
    "    hue='Anatomical Structure',\n",
    "    kind='bar',\n",
    "    height=5,\n",
    "    aspect=2,\n",
    "    legend_out=False,\n",
    "    hue_order=group_order,\n",
    "    palette=custom_palette\n",
    ")\n",
    "\n",
    "# convert y-axis to percent\n",
    "ax = plt.gca()\n",
    "vals = ax.get_yticks()\n",
    "ax.set_yticklabels(['{:.0%}'.format(val) for val in vals])\n",
    "\n",
    "# Accessing the underlying matplotlib Axes\n",
    "ax = plot.ax\n",
    "\n",
    "# Accessing each subplot's Axes to move the legend\n",
    "for ax in plot.axes.flat:\n",
    "    ax.legend(title='Anatomical Structure',\n",
    "              loc='upper center')  # Adjust loc as needed\n",
    "\n",
    "# rotate x-axis tick labels by 90 degrees\n",
    "plt.xticks(rotation=90)\n",
    "\n",
    "# tighten the layout\n",
    "plt.tight_layout()\n",
    "\n",
    "# save the fig\n",
    "plt.savefig(\"output/fig-1g.svg\")\n",
    "plt.savefig(\"output/fig-1g.pdf\")\n",
    "plt.savefig(\"output/fig-1g.png\")\n",
    "\n",
    "# render the plot\n",
    "plt.show()"
   ]
  }
 ],
 "metadata": {
  "kernelspec": {
   "display_name": ".venv",
   "language": "python",
   "name": "python3"
  },
  "language_info": {
   "codemirror_mode": {
    "name": "ipython",
    "version": 3
   },
   "file_extension": ".py",
   "mimetype": "text/x-python",
   "name": "python",
   "nbconvert_exporter": "python",
   "pygments_lexer": "ipython3",
   "version": "3.12.4"
  }
 },
 "nbformat": 4,
 "nbformat_minor": 2
}
